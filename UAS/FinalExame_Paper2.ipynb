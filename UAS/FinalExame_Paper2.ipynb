{
  "nbformat": 4,
  "nbformat_minor": 0,
  "metadata": {
    "colab": {
      "name": "FinalExame_Paper2.ipynb",
      "provenance": [],
      "authorship_tag": "ABX9TyPYT5XgaHLaEtfVO7/Ga4pA",
      "include_colab_link": true
    },
    "kernelspec": {
      "name": "python3",
      "display_name": "Python 3"
    },
    "language_info": {
      "name": "python"
    },
    "accelerator": "GPU"
  },
  "cells": [
    {
      "cell_type": "markdown",
      "metadata": {
        "id": "view-in-github",
        "colab_type": "text"
      },
      "source": [
        "<a href=\"https://colab.research.google.com/github/fikriansyahf/Machine-Learning-Lesson-Telkom-University/blob/main/UAS/FinalExame_Paper2.ipynb\" target=\"_parent\"><img src=\"https://colab.research.google.com/assets/colab-badge.svg\" alt=\"Open In Colab\"/></a>"
      ]
    },
    {
      "cell_type": "code",
      "execution_count": null,
      "metadata": {
        "id": "4yyBcQ3c6Tbf",
        "colab": {
          "base_uri": "https://localhost:8080/"
        },
        "outputId": "bca86679-128e-49a1-8b81-2b2b0b7f9231"
      },
      "outputs": [
        {
          "output_type": "stream",
          "name": "stdout",
          "text": [
            "Processing 100000/100000\n",
            "Saved processed tweets to: datasets/train-processed-processed.csv\n"
          ]
        }
      ],
      "source": [
        "!python2 code/preprocess.py datasets/train-processed.csv"
      ]
    },
    {
      "cell_type": "code",
      "source": [
        "!python2 code/preprocess.py datasets/test-processed.csv"
      ],
      "metadata": {
        "colab": {
          "base_uri": "https://localhost:8080/"
        },
        "id": "yeh-bqrk9bl_",
        "outputId": "0b52666d-5b10-4c53-ba1c-a86937e7b00d"
      },
      "execution_count": null,
      "outputs": [
        {
          "output_type": "stream",
          "name": "stdout",
          "text": [
            "Traceback (most recent call last):\n",
            "  File \"code/preprocess.py\", line 107, in <module>\n",
            "    preprocess_csv(csv_file_name, processed_file_name, test_file=False)\n",
            "  File \"code/preprocess.py\", line 81, in preprocess_csv\n",
            "    positive = int(line[:line.find(',')])\n",
            "ValueError: invalid literal for int() with base 10: 'is so sad for my apl friend'\n"
          ]
        }
      ]
    },
    {
      "cell_type": "code",
      "source": [
        "!python2 code/stats.py datasets/train-processed-processed.csv"
      ],
      "metadata": {
        "colab": {
          "base_uri": "https://localhost:8080/"
        },
        "id": "55AApjLq9nm4",
        "outputId": "b453cbc5-66d1-4b69-a4b8-fdfe5581512e"
      },
      "execution_count": null,
      "outputs": [
        {
          "output_type": "stream",
          "name": "stdout",
          "text": [
            "Processing 100000/100000\n",
            "Calculating frequency distribution\n",
            "Saved uni-frequency distribution to datasets/train-processed-processed-freqdist.pkl\n",
            "Saved bi-frequency distribution to datasets/train-processed-processed-freqdist-bi.pkl\n",
            "\n",
            "[Analysis Statistics]\n",
            "Tweets => Total: 100000, Positive: 56462, Negative: 43538\n",
            "User Mentions => Total: 0, Avg: 0.0000, Max: 0\n",
            "URLs => Total: 0, Avg: 0.0000, Max: 0\n",
            "Emojis => Total: 0, Positive: 0, Negative: 0, Avg: 0.0000, Max: 0\n",
            "Words => Total: 1283269, Unique: 50361, Avg: 12.8327, Max: 41, Min: 0\n",
            "Bigrams => Total: 1183437, Unique: 392543, Avg: 11.8344\n"
          ]
        }
      ]
    },
    {
      "cell_type": "code",
      "source": [
        "!python2 code/stats.py datasets/test-processed-processed.csv"
      ],
      "metadata": {
        "colab": {
          "base_uri": "https://localhost:8080/"
        },
        "id": "1oQLR0rf93mN",
        "outputId": "7a2cf69f-41e3-43d1-f232-56e1b40a7a2f"
      },
      "execution_count": null,
      "outputs": [
        {
          "output_type": "stream",
          "name": "stdout",
          "text": [
            "\n",
            "Calculating frequency distribution\n",
            "Saved uni-frequency distribution to datasets/test-processed-processed-freqdist.pkl\n",
            "Saved bi-frequency distribution to datasets/test-processed-processed-freqdist-bi.pkl\n",
            "\n",
            "[Analysis Statistics]\n",
            "Tweets => Total: 0, Positive: 0, Negative: 0\n",
            "Traceback (most recent call last):\n",
            "  File \"code/stats.py\", line 106, in <module>\n",
            "    print 'User Mentions => Total: %d, Avg: %.4f, Max: %d' % (num_mentions, num_mentions / float(num_tweets), max_mentions)\n",
            "ZeroDivisionError: float division by zero\n"
          ]
        }
      ]
    },
    {
      "cell_type": "code",
      "source": [
        "!python2 code/baseline.py TRAIN = True"
      ],
      "metadata": {
        "colab": {
          "base_uri": "https://localhost:8080/"
        },
        "id": "hDdLWCE8faD7",
        "outputId": "e254eadd-ee9b-4dfe-9c47-111cd6ecd0e7"
      },
      "execution_count": null,
      "outputs": [
        {
          "output_type": "stream",
          "name": "stdout",
          "text": [
            "Correct = 65.32%\n"
          ]
        }
      ]
    },
    {
      "cell_type": "code",
      "source": [
        "!python2 code/naivebayes.py TRAIN = True"
      ],
      "metadata": {
        "colab": {
          "base_uri": "https://localhost:8080/"
        },
        "id": "_c_0IFjggMNp",
        "outputId": "4b6635e3-0102-4693-eb5e-f1ed16d316de"
      },
      "execution_count": null,
      "outputs": [
        {
          "output_type": "stream",
          "name": "stdout",
          "text": [
            "Generating feature vectors\n",
            "Processing 100000/100000\n",
            "\n",
            "Extracting features & training batches\n",
            "Processing 1/1\n",
            "\n",
            "Testing\n",
            "Processing 1/1\n",
            "Correct: 7718/10000 = 77.1800 %\n"
          ]
        }
      ]
    },
    {
      "cell_type": "code",
      "source": [
        "!python3 code/logistic.py TRAIN = True"
      ],
      "metadata": {
        "colab": {
          "base_uri": "https://localhost:8080/"
        },
        "id": "UE9cpMEXkTzQ",
        "outputId": "abfa8551-5a59-47bb-bd55-12da4df4d8ed"
      },
      "execution_count": null,
      "outputs": [
        {
          "output_type": "stream",
          "name": "stdout",
          "text": [
            "  File \"code/logistic.py\", line 160\n",
            "    print '\\nSaved to logistic.csv'\n",
            "                                  ^\n",
            "SyntaxError: Missing parentheses in call to 'print'. Did you mean print('\\nSaved to logistic.csv')?\n"
          ]
        }
      ]
    }
  ]
}