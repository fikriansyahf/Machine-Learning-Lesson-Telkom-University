{
  "nbformat": 4,
  "nbformat_minor": 0,
  "metadata": {
    "colab": {
      "name": "Final_Paper1.ipynb",
      "provenance": [],
      "collapsed_sections": [],
      "authorship_tag": "ABX9TyOox5u6VDN3nCiAzG1VYNU/",
      "include_colab_link": true
    },
    "kernelspec": {
      "name": "python3",
      "display_name": "Python 3"
    },
    "language_info": {
      "name": "python"
    },
    "accelerator": "GPU"
  },
  "cells": [
    {
      "cell_type": "markdown",
      "metadata": {
        "id": "view-in-github",
        "colab_type": "text"
      },
      "source": [
        "<a href=\"https://colab.research.google.com/github/fikriansyahf/Machine-Learning-Lesson-Telkom-University/blob/main/Final_Paper1.ipynb\" target=\"_parent\"><img src=\"https://colab.research.google.com/assets/colab-badge.svg\" alt=\"Open In Colab\"/></a>"
      ]
    },
    {
      "cell_type": "markdown",
      "source": [
        "Train Data menggunakan sebesar 3 epoch"
      ],
      "metadata": {
        "id": "tmNnFhkwbUDG"
      }
    },
    {
      "cell_type": "code",
      "execution_count": 3,
      "metadata": {
        "colab": {
          "base_uri": "https://localhost:8080/"
        },
        "id": "J9Jis4lA4SrT",
        "outputId": "f7e84503-3c61-4413-87eb-ea4b92c998dd"
      },
      "outputs": [
        {
          "output_type": "stream",
          "name": "stdout",
          "text": [
            "----------------------------------------------------------------\n",
            "        Layer (type)               Output Shape         Param #\n",
            "================================================================\n",
            "            Conv2d-1           [-1, 32, 24, 24]             800\n",
            "       BatchNorm2d-2           [-1, 32, 24, 24]              64\n",
            "            Conv2d-3           [-1, 64, 20, 20]          51,200\n",
            "       BatchNorm2d-4           [-1, 64, 20, 20]             128\n",
            "            Conv2d-5           [-1, 96, 16, 16]         153,600\n",
            "       BatchNorm2d-6           [-1, 96, 16, 16]             192\n",
            "            Conv2d-7          [-1, 128, 12, 12]         307,200\n",
            "       BatchNorm2d-8          [-1, 128, 12, 12]             256\n",
            "            Conv2d-9            [-1, 160, 8, 8]         512,000\n",
            "      BatchNorm2d-10            [-1, 160, 8, 8]             320\n",
            "           Linear-11                   [-1, 10]         102,400\n",
            "      BatchNorm1d-12                   [-1, 10]              20\n",
            "================================================================\n",
            "Total params: 1,128,180\n",
            "Trainable params: 1,128,180\n",
            "Non-trainable params: 0\n",
            "----------------------------------------------------------------\n",
            "Input size (MB): 0.00\n",
            "Forward/backward pass size (MB): 1.48\n",
            "Params size (MB): 4.30\n",
            "Estimated Total Size (MB): 5.79\n",
            "----------------------------------------------------------------\n",
            "/usr/local/lib/python3.7/dist-packages/torchvision/transforms/functional.py:992: UserWarning: Argument interpolation should be of type InterpolationMode instead of int. Please, use InterpolationMode enum.\n",
            "  \"Argument interpolation should be of type InterpolationMode instead of int. \"\n",
            "Train Epoch: 0 [00000/60000 (0%)]\tLoss: 2.835055\n",
            "Train Epoch: 0 [12000/60000 (20%)]\tLoss: 0.672545\n",
            "Train Epoch: 0 [24000/60000 (40%)]\tLoss: 0.446485\n",
            "Train Epoch: 0 [36000/60000 (60%)]\tLoss: 0.381814\n",
            "Train Epoch: 0 [48000/60000 (80%)]\tLoss: 0.333888\n",
            "Best accuracy! correct images:  9892\n",
            "\n",
            "Test set: Average loss: 0.1459, Accuracy: 9892/10000 (98.92%) (best: 98.92%)\n",
            "\n",
            "Train Epoch: 1 [00000/60000 (0%)]\tLoss: 0.322609\n",
            "Train Epoch: 1 [12000/60000 (20%)]\tLoss: 0.246928\n",
            "Train Epoch: 1 [24000/60000 (40%)]\tLoss: 0.257343\n",
            "Train Epoch: 1 [36000/60000 (60%)]\tLoss: 0.147037\n",
            "Train Epoch: 1 [48000/60000 (80%)]\tLoss: 0.212519\n",
            "\n",
            "Test set: Average loss: 0.1495, Accuracy: 9817/10000 (98.17%) (best: 98.92%)\n",
            "\n",
            "Train Epoch: 2 [00000/60000 (0%)]\tLoss: 0.106649\n",
            "Train Epoch: 2 [12000/60000 (20%)]\tLoss: 0.104282\n",
            "Train Epoch: 2 [24000/60000 (40%)]\tLoss: 0.138825\n",
            "Train Epoch: 2 [36000/60000 (60%)]\tLoss: 0.153324\n",
            "Train Epoch: 2 [48000/60000 (80%)]\tLoss: 0.101405\n",
            "Best accuracy! correct images:  9938\n",
            "\n",
            "Test set: Average loss: 0.0524, Accuracy: 9938/10000 (99.38%) (best: 99.38%)\n",
            "\n"
          ]
        }
      ],
      "source": [
        "!python code/train.py --seed=0 --trial=1 --kernel_size=5 --epochs 3"
      ]
    },
    {
      "cell_type": "code",
      "source": [
        "!python3 code/test.py  --seed=0 --trial=1 --kernel_size=5 --logdir=temp"
      ],
      "metadata": {
        "id": "_0lK8xM7ObPs"
      },
      "execution_count": 6,
      "outputs": []
    },
    {
      "cell_type": "code",
      "source": [
        "!python3 code/homo_ensemble.py --kernel_size=5"
      ],
      "metadata": {
        "colab": {
          "base_uri": "https://localhost:8080/"
        },
        "id": "ICKeOlzPZpWo",
        "outputId": "5a6980fe-1837-466f-c056-978539a0fdd3"
      },
      "execution_count": 11,
      "outputs": [
        {
          "output_type": "stream",
          "name": "stdout",
          "text": [
            "   1   62    0    0\n",
            "   2   62    0    0\n",
            "   3   62    0    0\n",
            "   4   62    0    0\n",
            "   5   62    0    0\n",
            "   6   62    0    0\n",
            "   7   62    0    0\n",
            "   8   62    0    0\n",
            "   9   62    0    0\n",
            "  10   62    0    0\n",
            "  11   62    0    0\n",
            "  12   62    0    0\n",
            "  13   62    0    0\n",
            "  14   62    0    0\n",
            "  15   62    0    0\n",
            "  16   62    0    0\n",
            "  17   62    0    0\n",
            "  18   62    0    0\n",
            "  19   62    0    0\n",
            "  20   62    0    0\n",
            "  21   62    0    0\n",
            "  22   62    0    0\n",
            "  23   62    0    0\n",
            "  24   62    0    0\n",
            "  25   62    0    0\n",
            "  26   62    0    0\n",
            "  27   62    0    0\n",
            "  28   62    0    0\n",
            "  29   62    0    0\n",
            "  30   62    0    0\n",
            "  31   62    0    0\n",
            "  32   62    0    0\n",
            "  33   62    0    0\n",
            "  34   62    0    0\n",
            "  35   62    0    0\n",
            "  36   62    0    0\n",
            "  37   62    0    0\n",
            "  38   62    0    0\n",
            "  39   62    0    0\n",
            "  40   62    0    0\n",
            "  41   62    0    0\n",
            "  42   62    0    0\n",
            "  43   62    0    0\n",
            "  44   62    0    0\n",
            "  45   62    0    0\n",
            "  46   62    0    0\n",
            "  47   62    0    0\n",
            "  48   62    0    0\n",
            "  49   62    0    0\n",
            "  50   62    0    0\n",
            "  51   62    0    0\n",
            "  52   62    0    0\n",
            "  53   62    0    0\n",
            "  54   62    0    0\n",
            "  55   62    0    0\n",
            "  56   62    0    0\n",
            "  57   62    0    0\n",
            "  58   62    0    0\n",
            "  59   62    0    0\n",
            "  60   62    0    0\n",
            "  61   62    0    0\n",
            "  62   62    0    0\n",
            "  63   62    0    0\n",
            "  64   62    0    0\n",
            "  65   62    0    0\n",
            "  66   62    0    0\n",
            "  67   62    0    0\n",
            "  68   62    0    0\n",
            "  69   62    0    0\n",
            "  70   62    0    0\n",
            "  71   62    0    0\n",
            "  72   62    0    0\n",
            "  73   62    0    0\n",
            "  74   62    0    0\n",
            "  75   62    0    0\n",
            "  76   62    0    0\n",
            "  77   62    0    0\n",
            "  78   62    0    0\n",
            "  79   62    0    0\n",
            "  80   62    0    0\n",
            "  81   62    0    0\n",
            "  82   62    0    0\n",
            "  83   62    0    0\n",
            "  84   62    0    0\n",
            "  85   62    0    0\n",
            "  86   62    0    0\n",
            "  87   62    0    0\n",
            "  88   62    0    0\n",
            "  89   62    0    0\n",
            "  90   62    0    0\n",
            "  91   62    0    0\n",
            "  92   62    0    0\n",
            "  93   62    0    0\n",
            "  94   62    0    0\n",
            "  95   62    0    0\n",
            "  96   62    0    0\n",
            "  97   62    0    0\n",
            "  98   62    0    0\n",
            "  99   62    0    0\n",
            " 100   62    0    0\n",
            " 101   62    0    0\n",
            " 102   62    0    0\n",
            " 103   62    0    0\n",
            " 104   62    0    0\n",
            " 105   62    0    0\n",
            " 106   62    0    0\n",
            " 107   62    0    0\n",
            " 108   62    0    0\n",
            " 109   62    0    0\n",
            " 110   62    0    0\n",
            " 111   62    0    0\n",
            " 112   62    0    0\n",
            " 113   62    0    0\n",
            " 114   62    0    0\n",
            " 115   62    0    0\n",
            " 116   62    0    0\n",
            " 117   62    0    0\n",
            " 118   62    0    0\n",
            " 119   62    0    0\n",
            " 120   62    0    0\n"
          ]
        }
      ]
    }
  ]
}